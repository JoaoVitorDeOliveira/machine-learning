{
  "nbformat": 4,
  "nbformat_minor": 0,
  "metadata": {
    "colab": {
      "name": "Teste com PySpark",
      "provenance": [],
      "collapsed_sections": []
    },
    "kernelspec": {
      "name": "python3",
      "display_name": "Python 3"
    }
  },
  "cells": [
    {
      "cell_type": "code",
      "metadata": {
        "id": "Oz_8sWI7PKEl"
      },
      "source": [
        "# instalar as dependências\n",
        "!apt-get install openjdk-8-jdk-headless -qq > /dev/null\n",
        "!wget -q https://archive.apache.org/dist/spark/spark-2.4.4/spark-2.4.4-bin-hadoop2.7.tgz\n",
        "!tar xf spark-2.4.4-bin-hadoop2.7.tgz\n",
        "!pip install -q findspark"
      ],
      "execution_count": null,
      "outputs": []
    },
    {
      "cell_type": "code",
      "metadata": {
        "id": "RkpG11RQPbRf"
      },
      "source": [
        "# configurar as variáveis de ambiente\n",
        "import os\n",
        "os.environ[\"JAVA_HOME\"] = \"/usr/lib/jvm/java-8-openjdk-amd64\"\n",
        "os.environ[\"SPARK_HOME\"] = \"/content/spark-2.4.4-bin-hadoop2.7\"\n",
        "\n",
        "# tornar o pyspark \"importável\"\n",
        "import findspark\n",
        "findspark.init('spark-2.4.4-bin-hadoop2.7')"
      ],
      "execution_count": null,
      "outputs": []
    },
    {
      "cell_type": "code",
      "metadata": {
        "id": "gpJqWggpPKXO",
        "colab": {
          "base_uri": "https://localhost:8080/"
        },
        "outputId": "c6c847c5-87bb-4010-b200-53c9e178feaf"
      },
      "source": [
        "# iniciar uma sessão local e importar dados do Airbnb\n",
        "from pyspark.sql import SparkSession\n",
        "sc = SparkSession.builder.master('local[*]').getOrCreate()\n",
        "\n",
        "# download do http para arquivo local\n",
        "!wget --quiet --show-progress -O clientes.csv https://raw.githubusercontent.com/JoaoVitorDeOliveira/machine-learning/master/clientes_teste.csv\n",
        "df = sc.read.csv(\"./clientes.csv\", inferSchema=True, header=True)\n",
        "\n",
        "# ver algumas informações sobre os tipos de dados de cada coluna\n",
        "df.printSchema()"
      ],
      "execution_count": null,
      "outputs": [
        {
          "output_type": "stream",
          "name": "stdout",
          "text": [
            "\rclientes.csv          0%[                    ]       0  --.-KB/s               \rclientes.csv        100%[===================>]  41.60K  --.-KB/s    in 0.006s  \n",
            "root\n",
            " |-- NOME: string (nullable = true)\n",
            " |-- SOBRENOME: string (nullable = true)\n",
            " |-- EMAIL: string (nullable = true)\n",
            " |-- SEXO: string (nullable = true)\n",
            " |-- DATA_NASCIMENTO: timestamp (nullable = true)\n",
            " |-- SALARIO: double (nullable = true)\n",
            " |-- EMPRESA: string (nullable = true)\n",
            " |-- ANOS_CLIENTE: integer (nullable = true)\n",
            " |-- AVALIACAO_EMPRESA: integer (nullable = true)\n",
            " |-- PARTICIPOU_DE_CAMPANHA: integer (nullable = true)\n",
            " |-- INDICARIA_EMPRESA: integer (nullable = true)\n",
            "\n"
          ]
        }
      ]
    },
    {
      "cell_type": "code",
      "metadata": {
        "colab": {
          "base_uri": "https://localhost:8080/"
        },
        "id": "SZF3KyWjWz4t",
        "outputId": "b86a7dd0-c4a1-4955-8b69-86827a723cee"
      },
      "source": [
        "df.show()"
      ],
      "execution_count": null,
      "outputs": [
        {
          "output_type": "stream",
          "name": "stdout",
          "text": [
            "+-------+---------+--------------------+----+-------------------+-------+---------+------------+-----------------+-------------+-----------------+\n",
            "|   NOME|SOBRENOME|               EMAIL|SEXO|    DATA_NASCIMENTO|SALARIO|  EMPRESA|ANOS_CLIENTE|AVALIACAO_EMPRESA|JA_PARTICIPOU|INDICARIA_EMPRESA|\n",
            "+-------+---------+--------------------+----+-------------------+-------+---------+------------+-----------------+-------------+-----------------+\n",
            "|Melissa|  Almeida|                    |   F|1973-01-17 00:00:00|6077.96|MovilePay|           9|                8|            1|                1|\n",
            "|   Caio|     Lima|CaioAzevedoLima@a...|   M|1951-05-24 00:00:00|5202.26|MovilePay|           5|                2|            0|                1|\n",
            "|Isabela|  Correia|IsabelaRibeiroCor...|   F|1978-02-28 00:00:00|6867.53|MovilePay|           2|                8|            0|                0|\n",
            "|Julieta|  Martins|JulietaDiasMartin...|   F|1957-02-27 00:00:00| 7106.5|MovilePay|           6|                3|            0|                1|\n",
            "|  Julia| Carvalho|JulianSousaCarval...|   M|1987-04-12 00:00:00|6849.06|    Ifood|           5|                9|            0|                1|\n",
            "|  Pedro|  Azevedo|PedroFerreiraAzev...|   M|1960-03-24 00:00:00|9440.79|MovilePay|           8|                1|            0|                0|\n",
            "|   Kauê|  Pereira|KaueBarbosaPereir...|   M|1947-12-26 00:00:00|6277.17|     Zoop|           6|                2|            0|                0|\n",
            "|  Sofia|    Rocha|SofiaCastroRocha@...|   F|1956-01-02 00:00:00|8064.63|     Zoop|           3|                5|            0|                1|\n",
            "|  Vitor|     Lima|VitorMeloLima@sup...|   M|1984-04-14 00:00:00| 9586.3|     Zoop|           5|                1|            0|                1|\n",
            "| Marcos|     Dias|MarcosRochaDias@e...|   M|1959-03-06 00:00:00|7078.38|     Zoop|           2|                5|            0|                1|\n",
            "|  Diego|    Gomes|DiegoSantosGomes@...|   M|1949-12-09 00:00:00|9256.69|     Zoop|           3|                5|            1|                1|\n",
            "|  André|    Silva|AndreSantosSilva@...|   M|1978-11-11 00:00:00|9253.59|MovilePay|           8|                8|            0|                0|\n",
            "|   Rena|  Martins|RenanSantosMartin...|   M|1978-01-21 00:00:00|8503.64|    Ifood|           3|                9|            1|                0|\n",
            "|   Igor|    Gomes|IgorSousaGomes@gu...|   M|1991-09-10 00:00:00|5625.57|   Sympla|           1|                0|            0|                0|\n",
            "|       |  Ribeiro|JoaoMartinsRibeir...|   M|1991-08-18 00:00:00|8863.25|   Sympla|           9|                5|            0|                1|\n",
            "| Carlos|    Rocha|CarlosGomesRocha@...|    |1994-10-16 00:00:00|8949.38|   Sympla|           7|                2|            0|                1|\n",
            "|   Davi|  Pereira|DaviGoncalvesPere...|   M|1960-06-07 00:00:00| 9117.6|    Ifood|           8|                5|            1|                0|\n",
            "|   Alex|   Araujo|AlexAlvesAraujo@e...|   M|1968-08-07 00:00:00|8497.94|    Ifood|           6|                4|            1|                1|\n",
            "|Eduardo|    Rocha|EduardoCardosoRoc...|   M|1975-03-15 00:00:00|5196.17|    Ifood|           8|                5|            0|                1|\n",
            "|   Anna| Oliveira|AnnaAzevedoOlivei...|   F|1979-10-11 00:00:00|9709.21|    Ifood|           0|                5|            0|                1|\n",
            "+-------+---------+--------------------+----+-------------------+-------+---------+------------+-----------------+-------------+-----------------+\n",
            "only showing top 20 rows\n",
            "\n"
          ]
        }
      ]
    },
    {
      "cell_type": "markdown",
      "metadata": {
        "id": "GIjerFBRtVlO"
      },
      "source": [
        "# Demanda \n",
        "\n",
        "#### *Obs: Todos os dados usados aqui são dados fictícios*\n",
        "\n",
        "O Grupo Movile gostaria de criar uma campanha homenageando as Empreendedoras que são clientes em todas as empresas do grupo , não existe um banco de dados com todos os dados juntos, então cada empresa ficou responsável de buscar os dados de seus cliente e agregar todos em um único CSV.\n",
        "\n",
        "Cada empresa tem suas próprias regras e cada uma vai precisar dos dados curados e com sua regra aplicada.\n",
        "\n",
        "1.   A primeira etapa é saber quantas Empreendedoras temos no grupo da `Movile` para mensurar a campanha e vidas impactadas.\n",
        "\n",
        "2.   O `Ifood` não vai cobrar por 3 meses Empreendedoras que possuam `SALARIO` abaixo de 6000.00\n",
        "\n",
        "3.   A `MovilePay` vai doar crédito para as Empreendedoras em três niveis e o controle disso será por flags em uma nova coluna chamada `NIVEL_DOACAO`: com `SALARIO` abaixo de 6000.00 a empreendora recebe o número 1, de 6000.00 até 8000.00 recebe o número 2, acima disso recebe o número 3\n",
        "\n",
        "4. A `Sympla` precisa saber quantos % a mais Empreendedores ganham comparado com Empreendedoras para uma apresetação de conscientização\n",
        "\n",
        "5. E a `Zoop` quer saber as 10 Empreendedoras com o maior salario para oferecerem um novo tipo de conta Black.\n",
        "\n",
        "6. Por fim é necessário montar um dataset para ser consumido por um modelo de machine learning capaz de prever se um cliente indicaria a empresa ou não.\n",
        "\n",
        "Por serem dados consolidados de diferentes fontes há a possibilidade de dados nulos, campos em brancos e duplicados, será necessário uma limpenza para cada CSV gerado antes de aplicar as regras de negócio.\n",
        "\n"
      ]
    },
    {
      "cell_type": "code",
      "metadata": {
        "id": "f9OgW7o4mqmI"
      },
      "source": [
        ""
      ],
      "execution_count": null,
      "outputs": []
    }
  ]
}